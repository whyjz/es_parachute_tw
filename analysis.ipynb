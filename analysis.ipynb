{
 "cells": [
  {
   "cell_type": "markdown",
   "id": "0fb938a4-4867-476c-82cc-542b235db695",
   "metadata": {},
   "source": [
    "# 論文分類"
   ]
  },
  {
   "cell_type": "code",
   "execution_count": 1,
   "id": "82603cc1-77ca-4353-961e-183aff6f5cfb",
   "metadata": {},
   "outputs": [],
   "source": [
    "import pandas as pd\n",
    "from urllib.request import urlopen\n",
    "from urllib.error import HTTPError\n",
    "import json \n",
    "import numpy as np"
   ]
  },
  {
   "cell_type": "markdown",
   "id": "668f1639-9031-4e15-86e6-19c6dcf6a726",
   "metadata": {},
   "source": [
    "## 1. 讀取原始資料\n",
    "\n",
    "條目總數：1331 筆"
   ]
  },
  {
   "cell_type": "code",
   "execution_count": 2,
   "id": "f2b4adb7-c346-4b91-b1df-ec421b9922d6",
   "metadata": {},
   "outputs": [],
   "source": [
    "fname = '/home/jovyan/Projects/Workbench/TW_parachute/6.1331_TW_others_Zheng.xlsx'\n",
    "df = pd.read_excel(fname)"
   ]
  },
  {
   "cell_type": "markdown",
   "id": "68e9b872-3cfa-4d16-8921-5eb1791518cc",
   "metadata": {},
   "source": [
    "## 2. 檢視有 DOI 的資料\n",
    "\n",
    "條目總數：1014 筆"
   ]
  },
  {
   "cell_type": "code",
   "execution_count": 3,
   "id": "6fc3bba7-f213-4dec-9f88-4aa5743fa1ee",
   "metadata": {},
   "outputs": [
    {
     "data": {
      "text/plain": [
       "1014"
      ]
     },
     "execution_count": 3,
     "metadata": {},
     "output_type": "execute_result"
    }
   ],
   "source": [
    "df_has_doi = df.dropna(subset=['DI'])\n",
    "len(df_has_doi)"
   ]
  },
  {
   "cell_type": "markdown",
   "id": "516a8ea3-ae86-4fbc-b527-bbe43601d14c",
   "metadata": {},
   "source": [
    "### 2.1 由重複 DOI 挑出重複的條目"
   ]
  },
  {
   "cell_type": "code",
   "execution_count": 4,
   "id": "d623a372-aceb-4406-9901-2a62c0cadb23",
   "metadata": {},
   "outputs": [
    {
     "data": {
      "text/plain": [
       "array([], dtype=object)"
      ]
     },
     "execution_count": 4,
     "metadata": {},
     "output_type": "execute_result"
    }
   ],
   "source": [
    "values, counts = np.unique(df_has_doi['DI'], return_counts=True)\n",
    "\n",
    "# 沒有超過兩筆資料的 DOI 是相同的\n",
    "values[np.where(counts > 2)]"
   ]
  },
  {
   "cell_type": "markdown",
   "id": "2f4adeb1-da43-46c4-b6ea-d29a2b8c599f",
   "metadata": {},
   "source": [
    "比對重複 DOI 條目資料的相似度後，挑出重複的條目 (`list_r`)"
   ]
  },
  {
   "cell_type": "code",
   "execution_count": 5,
   "id": "b2c0c979-7be7-460c-aa97-c3c7bc55dde8",
   "metadata": {},
   "outputs": [
    {
     "name": "stdout",
     "output_type": "stream",
     "text": [
      "1210, Meteor radar wind over ChungLi 249N 121E Taiwan for the period 1025 November 2012 which includes Leonid meteor shower Comparison with empirical model and satellite measurements\n",
      "1220, Meteor radar wind over ChungLi 249 degrees N 121 degrees E Taiwan for the period 1025 November 2012 which includes Leonid meteor shower Comparison with empirical model and satellite measurements\n",
      "1245, Paleoclimatological and paleoenvironmental records since 4 000 a B P in sediments of alpine lakes in Taiwan\n",
      "1246, Paleoclimatological and paleoenvironmental records since 4000 a BP in sediments of alpine lakes in Taiwan\n",
      "754, A first modeling of dynamic and static crustal strain field from nearfield dilatation measurements example of the 2013 Mw 62 Ruisui earthquake Taiwan\n",
      "766, A first modeling of dynamic and static crustal strain field from nearfield dilatation measurements example of the 2013 62 Ruisui earthquake Taiwan\n",
      "735, Assessment of flood mitigation through riparian detention in response to a changing climate a case study\n",
      "736, Assessment of flood mitigation through riparian detention in response to a changing climatea case study\n",
      "42, Development of earthquake early warning system for Kachchh Gujarat in India using tau c and Pd\n",
      "43, Development of earthquake early warning system for Kachchh Gujarat in India using τc and P d\n",
      "125, STABLE ISOTOPE SYSTEMATICS OF ARGILLITE SLATE FROM A DEEP WELL IN THE CHINGSHUI GEOTHERMALFIELD TAIWAN\n",
      "126, Stable isotope systematics of argilliteslate from a deep well in the Chingshui geothermal field Taiwan\n",
      "127, An assessment of 40Ar39Ar dating for the wholerock volcanic samples from the Luzon Arc near Taiwan\n",
      "128, AN ASSESSMENT OF AR40AR39 DATING FOR THE WHOLEROCK VOLCANIC SAMPLES FROM THE LUZON ARC NEAR TAIWAN\n",
      "130, LATE CENOZOIC BASALTIC VOLCANISM AROUND THE TAIWAN STRAIT SE CHINA PRODUCT OF LITHOSPHERE ASTHENOSPHERE INTERACTION DURING CONTINENTAL EXTENSION\n",
      "131, Late Cenozoic basaltic volcanism around the Taiwan Strait SE China Product of lithosphereasthenosphere interaction during continental extension\n",
      "1097, Grain size effect on bound lipids in sediments off northeastern Taiwan\n",
      "1098, GRAINSIZE EFFECT ON BOUND LIPIDS IN SEDIMENTS OFF NORTHEASTERN TAIWAN\n",
      "953, Geometry and structure of northern surface ruptures of the 1999 Mw 76 ChiChi Taiwan earthquake Influence from inherited fold belt structures\n",
      "954, Geometry and structure of northern surface ruptures of the 1999 Mw76 ChiChi Taiwan earthquake influence from inherited fold belt structures\n",
      "62, The Liuchiu Hsu island offshore SW Taiwan tectonic versus diapiric anticline development and comparisons with onshore structures\n",
      "63, The Liuchiu Hsu island offshore SW Taiwan Tectonic versus diapiric anticline development and comparisons with onshore structures Lîle de Liuchiu Hsu au large du SudOuest de Taiwan origine tectonique versus diapirique du plissement et comparaison avec les structures à terre\n",
      "67, Large earthquaketriggered landslides and mountain belt erosion The Tsaoling case Taiwan\n",
      "68, Large earthquaketriggered landslides and mountain belt erosion The Tsaoling case Taiwan Glissements de terrain déclenchés par forts tremblements de terre et érosion de chaîne de montagne Lexemple de Tsaoling Taiwan\n",
      "69, Monitoring active fault creep as a tool in seismic hazard mitigation Insights from creepmeter study at Chihshang Taiwan\n",
      "70, Monitoring active fault creep as a tool in seismic hazard mitigation Insights from creepmeter study at Chihshang Taiwan La surveillance du glissement asismique dune faille active outil de prévision sismique Apport dune étude extensométrique à Chihshang Taiwan\n",
      "64, Estimates of presentday erosion based on sediment transport in rivers a case study in Taiwan\n",
      "65, Estimates of presentday erosion based on sediment transport in rivers A case study in Taiwan Estimation de lérosion actuelle à partir du transport de sédiments par les rivières Une étude de cas à Taiwan\n",
      "245, Variation of initial 230Th232Th and limits of high precision UTh dating of shallowwater corals\n",
      "246, Variation of initial Th230Th232 and limits of high precision UTh dating of shallowwater corals\n",
      "252, Impact of catastrophic events on small mountainous rivers Temporal and spatial variations in suspended and dissolvedsolid fluxes along the Choshui River central western Taiwan during typhoon Mindulle July 26 2004\n",
      "253, Impact of catastrophic events on small mountainous rivers Temporal and spatial variations in suspendedand dissolvedsolid fluxes along the Choshui River central western Taiwan during typhoon Mindulle July 26 2004\n",
      "751, Inhibition of ethylenediaminetetraacetic acid ferric sodium salt EDTAFe and calcium peroxide CaO2 on arsenic uptake by vegetables in arsenicrich agricultural soil\n",
      "752, Inhibition of ethylenediaminetetraacetic acid ferric sodium salt EDTAFe and calciumperoxide CaO2 on arsenic uptake by vegetables in arsenicrich agricultural soil\n",
      "389, From convergent plate margin to arccontinent collision Formation of the Kenting Mélange Southern Taiwan\n",
      "390, From convergent plate margin to arccontinent collision Formation of the Kenting Melange Southern Taiwan\n",
      "777, Formation of ophiolitebearing tectonosedimentary mélanges in accretionary wedges by gravity driven submarine erosion Insights from analogue models and case studies\n",
      "778, Formation of ophiolitebearing tectonosedimentary melanges in accretionary wedges by gravity driven submarine erosion Insights from analogue models and case studies\n",
      "541, Change of the ENSOrelated delta O18SST correlation from coral skeletons in northern South China Sea A possible influence from the Kuroshio Current\n",
      "542, Change of the ENSOrelated δ18OSST correlation from coral skeletons in northern South China Sea A possible influence from the Kuroshio Current\n",
      "558, Sedimentlogy of early Pliocene sandstones in the southwestern Taiwan foreland Implications for basin physiography in the early stages of collision\n",
      "559, Sedimentology of early Pliocene sandstones in the southwestern Taiwan foreland Implications for basin physiography in the early stages of collision\n",
      "554, Mineralogical and geochemical investigations of sedimentsource region changes in the Okinawa Trough during the past 100 ka IMAGES core MD012404\n",
      "555, Mineralogical and geochemical investigations of sedimentsource region changes in the Okinawa Trough during the past 100ka IMAGES core MD012404\n",
      "575, Reexamining the source parameters of the 2010 M L 64 JiaSian Taiwan earthquake using the inversion of teleseismic Pwaves\n",
      "576, Reexamining the source parameters of the 2010 ML 64 JiaSian Taiwan earthquake using the inversion of teleseismic Pwaves\n",
      "565, A seismicity burst following the 2010 M 64 Jiashian earthquake implications for shortterm seismic hazards in southern Taiwan\n",
      "566, A seismicity burst following the 2010M 64 Jiashian earthquake Implications for shortterm seismic hazards in southern Taiwan\n",
      "585, Diverse mineral compositions textures and metamorphic PT conditions of the glaucophanebearing rocks in the Tamayen mélange Yuli belt eastern Taiwan\n",
      "586, Diverse mineral compositions textures and metamorphic PT conditions of the glaucophanebearing rocks in the Tamayen melange Yuli belt eastern Taiwan\n",
      "611, Source complexity of the 4 March 2010 Jiashiah Taiwan Earthquake determined by joint inversion of teleseismic and near field data\n",
      "612, Source complexity of the 4 march 2010 Jiashian Taiwan earthquake determined by joint inversion of teleseismic and near field data\n",
      "597, Paleoclimate variability in central Taiwan during the past 30 Kyrs reflected by pollen delta C13TOC and nalkanedelta D records in a peat sequence from Toushe Basin\n",
      "598, Paleoclimate variability in central Taiwan during the past 30Kyrs reflected by pollen δ13CTOC and nalkaneδD records in a peat sequence from Toushe Basin\n",
      "599, Persistent sea surface temperature and declined sea surface salinity in the northwestern tropical Pacific over the past 7500 years\n",
      "600, Persistent sea surface temperature and declined sea surface salinity in the northwestern tropical Pacific over the past 7500years\n",
      "631, How fast is the denudation of the Taiwan mountain belt Perspectives from in situ cosmogenic 10Be\n",
      "632, How fast is the denudation of the Taiwan mountain belt Perspectives from in situ cosmogenic Be10\n",
      "643, Coral boulders along the coast of the Lanyu Island offshore southeastern 0 crossMark Taiwan as potential paleotsunarni records\n",
      "644, Coral boulders along the coast of the Lanyu Island offshore southeastern Taiwan as potential paleotsunami records\n",
      "695, Resolved measurements of 13CDH3 and 12CD2H2 from a mud volcano in Taiwan\n",
      "696, Resolved measurements of CDH3C13 and CD2H2C12 from a mud volcano in Taiwan\n",
      "707, Source locationdependency site response in the Taipei Basin of Taiwan by 1 using HVSR analysis\n",
      "708, Source locationdependency site response in the Taipei Basin of Taiwan by using HVSR analysis\n",
      "714, Importance of realtime PGV in terms of leadtime and shakemaps Results using 2018 ML 62 2019 ML 63 Hualien Taiwan earthquakes\n",
      "715, Importance of realtime PGV in terms of leadtime and shakemaps Results using 2018 ML 62 amp 2019 ML 63 Hualien Taiwan earthquakes\n",
      "958, Structural geology of a classic thrust belt earthquake The 1999 ChiChi earthquake Taiwan Mw 76\n",
      "959, Structural geology of a classic thrust belt earthquake the 1999 ChiChi earthquake Taiwan Mw76\n",
      "967, Growth of mica porphyroblasts under lowgrade metamorphism A Taiwanese case using insitu 40Ar39Ar laser microprobe dating\n",
      "968, Growth of mica porphyroblasts under lowgrade metamorphism A Taiwanese case using insitu Ar40Ar39 laser microprobe dating\n",
      "1103, Paleohydrological changes in northeastern Taiwan over the past 2ky inferred from biological proxies in the sediment record of a floodplain lake\n",
      "1110, Paleohydrological changes in northeastern Taiwan over the past 2 ky inferred from biological proxies in the sediment record of a floodplain lake\n",
      "1257, Polygenetic mélange in the retrowedge foredeep of an active arccontinent collision Coastal Range of eastern Taiwan\n",
      "1258, Polygenetic melange in the retrowedge foredeep of an active arccontinent collision Coastal Range of eastern Taiwan\n",
      "1228, Historical reconstruction of submarine earthquakes using 210PB 137CS and 241AM turbidite chronologyand radiocarbon reservoir age estimation off East Taiwan\n",
      "1229, Historical Reconstruction of Submarine Earthquakes Using Pb210 Cs137 and Am241 Turbidite Chronology and Radiocarbon Reservoir Age Estimation off East Taiwan\n",
      "257, Tectonic and environmental control of the clay mineral sedimentation in the late cenozoic orogen of Taiwan Contrôle par la tectonique et ie paléoenvironnement de la sédimentation argileuse dans lorogene cénozoique superieur de Taiwan Asie du sudest\n",
      "258, TECTONIC AND ENVIRONMENTALCONTROL OF THE CLAY MINERAL SEDIMENTATION IN THE LATE CENOZOIC OROGEN OF TAIWAN\n",
      "345, Assessing effect of dynamic compaction on liquefaction potential using statistical methods a case study\n",
      "346, Assessing effect of dynamic compaction on liquefaction potential using statistical methodsa case study\n",
      "1297, First cosmic ray exposure dating in situ produced Be10 of the late pleistocene and holocene glaciation in the Nanhutashan Mountains Taiwan\n",
      "1308, First cosmic ray exposure dating in situ produced 10 Be of the late pleistocene and holocene glaciation in the Nanhutashan Mountains Taiwan\n",
      "262, Temporal change in groundwater level following the 1999 Mw 75 ChiChi earthquake Taiwan\n",
      "263, Temporal change in groundwater level following the 1999 MW75 ChiChi earthquake Taiwan\n",
      "1114, Occlusioncompensated true orthorectification for highresolution satellite images\n",
      "1116, Occlusion compensated true orthorectification for highresolution satellite images\n",
      "301, Modeldependent 10 Be sedimentation rates for the Taiwan Strait and their tectonic significance\n",
      "302, MODELDEPENDENT BE10 SEDIMENTATIONRATES FOR THE TAIWAN STRAIT AND THEIR TECTONIC SIGNIFICANCE\n",
      "314, Coseismic release of water from mountains Evidence from the 1999 Mw 75 ChiChi Taiwan earthquake\n",
      "315, Coseismic release of water from mountains Evidence from the 1999 MW75 ChiChi Taiwan earthquake\n",
      "319, Shortterm changes in seafloor character due to flood derived hyperpycnal discharge Typhoon Mindulle Taiwan July 2004\n",
      "320, Shortterm changes in seafloor character due to floodderived hyperpycnal discharge Typhoon Mindulle Taiwan July 2004\n",
      "181, An Assessment Method for Debris Flow Dam Formation in Taiwan\n",
      "182, An assessment method for debris flow dam formation in Taiwan Método de evaluación en la formación de represamientos por el flujo de detritos en Taiwán\n",
      "413, Magnetic surveying of the Chaochon fault of southern Taiwan Culmination of basementinvolved surface thrusting in arccontinent collision\n",
      "414, Magnetic surveying of the chaochou fault of southern Taiwan Culmination of basementinvolved surface thrusting in arccontinent collision\n",
      "494, DEM and GISBased Analysis of Soil Erosion Depth Using Machine Learning\n",
      "495, Demand gisbased analysis of soil erosion depth using machine learning\n",
      "1273, Application of titaniuminquartz thermobarometry to greenschist facies veins and recrystallized quartzites in the Hsuehshan range Taiwan\n",
      "1274, Application of titaniuminquartz thermobarometry to greenschist facies veins and recrystallized quartzites in the Hsüehshan range Taiwan\n"
     ]
    }
   ],
   "source": [
    "list_r = []\n",
    "for repetitive_doi in values[np.where(counts == 2)]:\n",
    "    repetitive_entries = df_has_doi.loc[df_has_doi['DI'] == repetitive_doi]\n",
    "    print('{}, {}'.format(repetitive_entries.index[0], repetitive_entries.iloc[0]['TI']))\n",
    "    print('{}, {}'.format(repetitive_entries.index[1], repetitive_entries.iloc[1]['TI']))\n",
    "    list_r.append(repetitive_entries.index[1])"
   ]
  },
  {
   "cell_type": "markdown",
   "id": "b8a81b48-6074-4c21-b131-239f5e7c0815",
   "metadata": {},
   "source": [
    "以下的條目有不同的 doi，但實際上兩兩屬於同一篇論文。把重複條目的其中之一手動加到 `list_r`。"
   ]
  },
  {
   "cell_type": "code",
   "execution_count": 6,
   "id": "c525a4d9-8b4f-4106-8738-6a282ebdc474",
   "metadata": {},
   "outputs": [
    {
     "data": {
      "text/html": [
       "<div>\n",
       "<style scoped>\n",
       "    .dataframe tbody tr th:only-of-type {\n",
       "        vertical-align: middle;\n",
       "    }\n",
       "\n",
       "    .dataframe tbody tr th {\n",
       "        vertical-align: top;\n",
       "    }\n",
       "\n",
       "    .dataframe thead th {\n",
       "        text-align: right;\n",
       "    }\n",
       "</style>\n",
       "<table border=\"1\" class=\"dataframe\">\n",
       "  <thead>\n",
       "    <tr style=\"text-align: right;\">\n",
       "      <th></th>\n",
       "      <th>PY</th>\n",
       "      <th>JI</th>\n",
       "      <th>TI</th>\n",
       "      <th>AU</th>\n",
       "      <th>AB</th>\n",
       "      <th>C1</th>\n",
       "      <th>AU_CO</th>\n",
       "      <th>AU1_CO</th>\n",
       "      <th>AUc_CO</th>\n",
       "      <th>N_AU</th>\n",
       "      <th>...</th>\n",
       "      <th>DI</th>\n",
       "      <th>DT</th>\n",
       "      <th>ID</th>\n",
       "      <th>PU</th>\n",
       "      <th>SO</th>\n",
       "      <th>TC</th>\n",
       "      <th>VL</th>\n",
       "      <th>DB</th>\n",
       "      <th>AU_UN</th>\n",
       "      <th>AUc_UN</th>\n",
       "    </tr>\n",
       "  </thead>\n",
       "  <tbody>\n",
       "    <tr>\n",
       "      <th>290</th>\n",
       "      <td>2001.0</td>\n",
       "      <td>Geol. Mag.</td>\n",
       "      <td>Structural evolution and significance of a mél...</td>\n",
       "      <td>Chang C;Angelier J;Huang C;Liu C</td>\n",
       "      <td>The analysis of 'mélanges' of various types (s...</td>\n",
       "      <td>Laboratoire de Tectonique Quantitative, Univer...</td>\n",
       "      <td>FRANCE;TAIWAN;TAIWAN;TAIWAN;TAIWAN</td>\n",
       "      <td>FRANCE</td>\n",
       "      <td>FRANCE</td>\n",
       "      <td>4</td>\n",
       "      <td>...</td>\n",
       "      <td>10.1017/s0016756801005970</td>\n",
       "      <td>Article</td>\n",
       "      <td>Deformation;  Faulting;  Landforms;  Sedimenta...</td>\n",
       "      <td>Cambridge University Press</td>\n",
       "      <td>Geological Magazine</td>\n",
       "      <td>57</td>\n",
       "      <td>138</td>\n",
       "      <td>scopus</td>\n",
       "      <td>UNIVERSITÉ P. AND M. CURIE;NATIONAL TAIWAN UNI...</td>\n",
       "      <td>LABORATOIRE TECTONIQUE QUANTITATIVE</td>\n",
       "    </tr>\n",
       "    <tr>\n",
       "      <th>291</th>\n",
       "      <td>2001.0</td>\n",
       "      <td>Geol. Mag.</td>\n",
       "      <td>Structural evolution and significance of a mel...</td>\n",
       "      <td>Chang C;Angelier J;Huang C;Liu C</td>\n",
       "      <td>The analysis of 'melanges' of various types (s...</td>\n",
       "      <td>Univ Paris 06, Lab Tecton Quantitat, F-75252 P...</td>\n",
       "      <td>FRANCE;TAIWAN;TAIWAN</td>\n",
       "      <td>FRANCE</td>\n",
       "      <td>FRANCE</td>\n",
       "      <td>4</td>\n",
       "      <td>...</td>\n",
       "      <td>10.1017/S0016756801005970</td>\n",
       "      <td>Article</td>\n",
       "      <td>LONGITUDINAL VALLEY; SUTURE ZONE; FAULT; PLATE...</td>\n",
       "      <td>CAMBRIDGE UNIV PRESS</td>\n",
       "      <td>GEOLOGICAL MAGAZINE</td>\n",
       "      <td>56</td>\n",
       "      <td>138</td>\n",
       "      <td>ISI</td>\n",
       "      <td>FRANCE.;NATL TAIWAN UNIV;NATL TAIWAN UNIV</td>\n",
       "      <td>NaN</td>\n",
       "    </tr>\n",
       "    <tr>\n",
       "      <th>304</th>\n",
       "      <td>1996.0</td>\n",
       "      <td>Geology</td>\n",
       "      <td>Extensional collapse of the northern Taiwan mo...</td>\n",
       "      <td>Teng L</td>\n",
       "      <td>As an active collision zone between the Luzon ...</td>\n",
       "      <td>NaN</td>\n",
       "      <td>NaN</td>\n",
       "      <td>NaN</td>\n",
       "      <td>TAIWAN</td>\n",
       "      <td>1</td>\n",
       "      <td>...</td>\n",
       "      <td>10.1130/0091-7613(1996)024&lt;0949:ECOTNT&gt;2.3.CO;2</td>\n",
       "      <td>Article</td>\n",
       "      <td>BACK-ARC BASIN; OKINAWA TROUGH; COLLISION; LIT...</td>\n",
       "      <td>GEOLOGICAL SOC AMERICA</td>\n",
       "      <td>GEOLOGY</td>\n",
       "      <td>205</td>\n",
       "      <td>24</td>\n",
       "      <td>ISI</td>\n",
       "      <td>NaN</td>\n",
       "      <td>NATL TAIWAN UNIV</td>\n",
       "    </tr>\n",
       "    <tr>\n",
       "      <th>305</th>\n",
       "      <td>1997.0</td>\n",
       "      <td>Geology</td>\n",
       "      <td>Extensional collapse of the northern Taiwan mo...</td>\n",
       "      <td>Chen C</td>\n",
       "      <td>NaN</td>\n",
       "      <td>NaN</td>\n",
       "      <td>NaN</td>\n",
       "      <td>NaN</td>\n",
       "      <td>TAIWAN</td>\n",
       "      <td>1</td>\n",
       "      <td>...</td>\n",
       "      <td>10.1130/0091-7613(1997)025&lt;0855:ECOTNT&gt;2.3.CO;2</td>\n",
       "      <td>Article</td>\n",
       "      <td>ARC; BASALTS; ISLAND</td>\n",
       "      <td>GEOLOGICAL SOC AMERICA</td>\n",
       "      <td>GEOLOGY</td>\n",
       "      <td>14</td>\n",
       "      <td>25</td>\n",
       "      <td>ISI</td>\n",
       "      <td>NaN</td>\n",
       "      <td>INST EARTH SCI</td>\n",
       "    </tr>\n",
       "  </tbody>\n",
       "</table>\n",
       "<p>4 rows × 26 columns</p>\n",
       "</div>"
      ],
      "text/plain": [
       "         PY          JI                                                 TI  \\\n",
       "290  2001.0  Geol. Mag.  Structural evolution and significance of a mél...   \n",
       "291  2001.0  Geol. Mag.  Structural evolution and significance of a mel...   \n",
       "304  1996.0     Geology  Extensional collapse of the northern Taiwan mo...   \n",
       "305  1997.0     Geology  Extensional collapse of the northern Taiwan mo...   \n",
       "\n",
       "                                   AU  \\\n",
       "290  Chang C;Angelier J;Huang C;Liu C   \n",
       "291  Chang C;Angelier J;Huang C;Liu C   \n",
       "304                            Teng L   \n",
       "305                            Chen C   \n",
       "\n",
       "                                                    AB  \\\n",
       "290  The analysis of 'mélanges' of various types (s...   \n",
       "291  The analysis of 'melanges' of various types (s...   \n",
       "304  As an active collision zone between the Luzon ...   \n",
       "305                                                NaN   \n",
       "\n",
       "                                                    C1  \\\n",
       "290  Laboratoire de Tectonique Quantitative, Univer...   \n",
       "291  Univ Paris 06, Lab Tecton Quantitat, F-75252 P...   \n",
       "304                                                NaN   \n",
       "305                                                NaN   \n",
       "\n",
       "                                  AU_CO  AU1_CO  AUc_CO  N_AU  ...  \\\n",
       "290  FRANCE;TAIWAN;TAIWAN;TAIWAN;TAIWAN  FRANCE  FRANCE     4  ...   \n",
       "291                FRANCE;TAIWAN;TAIWAN  FRANCE  FRANCE     4  ...   \n",
       "304                                 NaN     NaN  TAIWAN     1  ...   \n",
       "305                                 NaN     NaN  TAIWAN     1  ...   \n",
       "\n",
       "                                                  DI       DT  \\\n",
       "290                        10.1017/s0016756801005970  Article   \n",
       "291                        10.1017/S0016756801005970  Article   \n",
       "304  10.1130/0091-7613(1996)024<0949:ECOTNT>2.3.CO;2  Article   \n",
       "305  10.1130/0091-7613(1997)025<0855:ECOTNT>2.3.CO;2  Article   \n",
       "\n",
       "                                                    ID  \\\n",
       "290  Deformation;  Faulting;  Landforms;  Sedimenta...   \n",
       "291  LONGITUDINAL VALLEY; SUTURE ZONE; FAULT; PLATE...   \n",
       "304  BACK-ARC BASIN; OKINAWA TROUGH; COLLISION; LIT...   \n",
       "305                               ARC; BASALTS; ISLAND   \n",
       "\n",
       "                             PU                   SO   TC   VL      DB  \\\n",
       "290  Cambridge University Press  Geological Magazine   57  138  scopus   \n",
       "291        CAMBRIDGE UNIV PRESS  GEOLOGICAL MAGAZINE   56  138     ISI   \n",
       "304      GEOLOGICAL SOC AMERICA              GEOLOGY  205   24     ISI   \n",
       "305      GEOLOGICAL SOC AMERICA              GEOLOGY   14   25     ISI   \n",
       "\n",
       "                                                 AU_UN  \\\n",
       "290  UNIVERSITÉ P. AND M. CURIE;NATIONAL TAIWAN UNI...   \n",
       "291          FRANCE.;NATL TAIWAN UNIV;NATL TAIWAN UNIV   \n",
       "304                                                NaN   \n",
       "305                                                NaN   \n",
       "\n",
       "                                  AUc_UN  \n",
       "290  LABORATOIRE TECTONIQUE QUANTITATIVE  \n",
       "291                                  NaN  \n",
       "304                     NATL TAIWAN UNIV  \n",
       "305                       INST EARTH SCI  \n",
       "\n",
       "[4 rows x 26 columns]"
      ]
     },
     "execution_count": 6,
     "metadata": {},
     "output_type": "execute_result"
    }
   ],
   "source": [
    "df_has_doi.loc[[290, 291, 304, 305]]"
   ]
  },
  {
   "cell_type": "code",
   "execution_count": 7,
   "id": "31816a93-31fa-46a0-a472-e3ef3b73b598",
   "metadata": {},
   "outputs": [],
   "source": [
    "if 291 not in list_r:\n",
    "    list_r.append(291)\n",
    "if 305 not in list_r:\n",
    "    list_r.append(305)"
   ]
  },
  {
   "cell_type": "markdown",
   "id": "fa5b1d16-90d8-4bab-8d60-635e5cbfa0bd",
   "metadata": {},
   "source": [
    "### 2.2 為剩下的條目分類\n",
    "\n",
    "- `list_a`: A 類   (非目標主題)\n",
    "- `list_b1`: B1 類 (目標主題, 使用公開或可經付費取得之資料, 作者群中至少一人任職於台灣機構)\n",
    "- `list_b2`: B2 類 (目標主題, 使用非公開、需正式申請或透過科研合作才可取得之資料, 作者群中至少一人任職於台灣機構)\n",
    "- `list_c1`: C1 類 (目標主題, 使用公開或可經付費取得之資料, 作者群中無人任職於台灣機構)\n",
    "\n",
    "#### 分類的細節 (my rubrics)\n",
    "\n",
    "1. 目標主題：**固體地球、物理海洋學、古生物與古環境研究**，地理區域涵蓋**台灣地區** (中華民國實際管轄陸域及周圍十二海浬 (22.2 km) 水域，包括台灣島、基隆北方三島、龜山島、金門列島、馬祖列島、澎湖群島、小琉球、綠島、蘭嶼、東沙島、太平島)。 \n",
    "2. 以下相關領域**算做目標主題**：\n",
    "\n",
    "  - 研究現代生物作用作為古環境研究框架的研究（花粉學、珊瑚定年等等）\n",
    "  - 洪水與土石流、泥流相關研究\n",
    "  - 火山學（即使採集的只有氣體）\n",
    "  - 與地震或構造運動相關的水文學研究（地下水流量變化等等）\n",
    "\n",
    "3. 以下相關領域**不算目標主題**：\n",
    "\n",
    "  - 生態學\n",
    "  - 人類學（考古遺址、鑑種等等）\n",
    "  - 漁業學\n",
    "  - 地球科學史、科學教育與傳播研究\n",
    "  - 純論測地學技術之研究（GNSS、重力等等）\n",
    "  - 以環境汙染為主題之研究（PM2.5、水汙染、土壤汙染等等）\n",
    "  - 氣象學\n",
    "  - 純論地理資訊系統與地理資料科學之研究（Geoinformatics）\n",
    "  - 社會學、社會地理學、地緣政治學\n",
    "  - 公共衛生相關研究\n",
    "  - 都市規劃、城鄉發展、土地利用、環境社會學、農業與環境的互動\n",
    "  - 利用遙測資料進行的生物圈研究（NDVI、樹冠層厚度等等）\n",
    "  - 自然災害應變系統\n",
    "  - 以水資源利用或污染傳播作為焦點的水文學研究\n",
    "  - 以工程建設（水壩）或汙染/有機物質傳播作為焦點的河流沉積物研究\n",
    "  - 核電廠相關之環境科學\n",
    "\n",
    "4. 文章使用的**資料類型的判定標準**：\n",
    "\n",
    "  - 所有資料都以 2022 年 4 月後的開放程度為準。(也就是說，某筆資料在作者撰寫論文的時候可能還是非公開資料，但只要資料在 2022 年能公開或付費獲取，就算做公開資料。)\n",
    "  - 作者初次在文章中發表、在野外實地取得的資料都算做非公開資料，像是照片、影片、距離/方位量測、溫度、流速等等。\n",
    "  - 實驗室分析之樣本為非公開資料 (除非是可以買到的樣本，像是商業流通的化石等，不過我這邊沒有這種例子)\n",
    "  - 只有實際用於科學分析的資料才納入考慮。例如作者使用非公開 DEM 只來當地圖底圖的話，就不算數。\n",
    "  - 只考慮與台灣地區相關的資料。例如作者是否使用來自台灣以外的岩石樣品不影響資料類型的分類判定。\n",
    "  - 同時使用公開與非公開的資料的情況下，算做使用非公開資料的文章。\n",
    "  - 常見的非公開與公開資料庫列表可參考「規則」Google Docs。"
   ]
  },
  {
   "cell_type": "code",
   "execution_count": 8,
   "id": "ad984099-aea9-45e2-bc10-296482aee0c3",
   "metadata": {},
   "outputs": [],
   "source": [
    "list_a = [1, 2, 4, 6, 7, 8, 9, 10, 11, 12, 13, 14, 15, 16, 17, 20, 21, 37, 38, 39, 42, 44, 45, 46, 47, 48, 49, 51, 52, 57, 74, 77, 78, 80, 88, 89, 90, 91, 92, 93, 94, 96, 97, 98, 99, \n",
    "    100, 101, 102, 103, 104, 105, 106, 107, 108, 109, 111, 112, 113, 114, 115, 116, 117, 118, 119, 120, 137, 141, 142, 146, 149, 150, 151, 152, 153, 154, 155, 156, 157, 158, 159, 160, 161, 162, 163, 164, 165, 166, 167, 168, 169, 170, 171, 172, 177, 178, 180, 185, 187, 190, 192, 193, 197, 198, 199, \n",
    "    200, 201, 202, 203, 207, 210, 211, 215, 217, 218, 219, 220, 221, 222, 223, 228, 230, 241, 242, 244, 249, 255, 264, 265, 267, 274, 275, 276, 277, 278, 286, 287, 288, \n",
    "    303, 344, 345, 347, 349, 350, 353, 354, 355, 357, 359, 360, 361, 362, 364, 365, 392, 393, 394, 395, 396, 397, 398, 399, \n",
    "    400, 401, 402, 403, 417, 423, 424, 425, 426, 427, 428, 429, 431, 432, 433, 434, 437, 438, 439, 440, 441, 442, 443, 444, 448, 456, 457, 458, 459, 460, 461, 462, 463, 464, 465, 466, 467, 468, 469, 470, 471, 472, 473, 474, 476, 477, 478, 479, 485, 486, 487, 490, 491, 494, 496, 497, 498, 499, \n",
    "    500, 501, 502, 503, 504, 505, 506, 507, 510, 514, 523, 537, 538, 540, 553, 554, 561, 564, 568, 570, 574, 578, 581, 582, 583, 587, 588, 589, 590, 593, 599, \n",
    "    601, 602, 606, 607, 614, 620, 621, 622, 627, 630, 633, 634, 640, 641, 646, 648, 653, 656, 658, 666, 669, 671, 674, 676, 678, 691, \n",
    "    711, 721, 722, 723, 724, 725, 727, 728, 729, 730, 731, 734, 735, 737, 738, 742, 743, 746, 748, 749, 751, 753, 757, 758, 759, 760, 761, 762, 763, 764, 765, 769, 780, 781, 784, 786, 791, 792, \n",
    "    884, 885, 886, 887, 888, 889, 890, 892, 899, \n",
    "    907, 910, 914, 915, 916, 917, 918, 919, 920, 921, 922, 930, 931, 932, 933, 934, 935, 936, 937, 938, 941, 942, 943, 944, 945, 946, 950, 969, \n",
    "    1039, 1040, 1041, 1043, 1045, 1046, 1047, 1048, 1050, 1085, 1090, 1091, 1092, 1093, 1097, \n",
    "    1108, 1114, 1115, 1117, \n",
    "    1207, 1208, 1210, 1211, 1212, 1213, 1214, 1215, 1216, 1217, 1218, 1219, 1221, 1222, 1223, 1224, 1225, 1226, 1232, 1233, 1234, 1235, 1236, 1237, 1238, 1239, 1240, 1241, 1244, 1249, 1252, 1253, 1260, 1262, 1263, 1264, 1267, 1270, 1272, 1275, 1276, 1277, 1281, 1282, 1284, 1286, 1287, 1288, 1289, 1291, 1292, 1293, 1294, \n",
    "    1305, 1309, 1310, 1311, 1312, 1313, 1315, 1318, 1324, 1326, 1329, 1330]\n",
    "\n",
    "list_b1 = [33, 59, 66, 83, 95, 121, 130, 181, 184, 186, 204, 208, 216, 272, 289, 295, 298, \n",
    "    304, 310, 318, 330, 351, 356, 358, 369, 377, 385, 388, 430, 449, 450, 481, 489, 492, \n",
    "    524, 527, 533, 535, 536, 545, 549, 550, 552, 562, 575, 577, 594, 596, \n",
    "    605, 609, 611, 613, 619, 623, 628, 635, 637, 638, 642, 649, 650, 651, 652, 659, 662, 663, 665, 672, 675, 677, 686, 687, 697, \n",
    "    702, 707, 709, 710, 713, 770, 768, 771, 775, 776, 777, 779, 891, 900, 901, 912, 962, \n",
    "    1058, 1102, 1105, 1107, 1243, 1250, 1290, 1295, 1299, 1303, ]\n",
    "\n",
    "list_b2 = [5, 22, 23, 24, 25, 26, 27, 28, 29, 30, 31, 32, 34, 35, 36, 40, 41, 50, 53, 58, 60, 62, 64, 67, 69, 71, 72, 73, 75, 76, 79, 81, 82, 84, 85, 86, 87, \n",
    "    122, 123, 124, 125, 127, 129, 132, 133, 134, 135, 136, 138, 139, 140, 143, 144, 145, 147, 148, 173, 174, 175, 176, 179, 183, 189, 191, 194, 195, \n",
    "    205, 206, 214, 209, 212, 213, 224, 225, 226, 227, 229, 231, 234, 235, 237, 239, 240, 243, 245, 247, 248, 250, 251, 252, 254, 256, 257, 259, 262, 266, 268, 269, 270, 271, 273, 290, 292, 293, 294, 296, 297, 299, \n",
    "    300, 301, 309, 311, 312, 313, 314, 316, 319, 321, 322, 323, 324, 325, 326, 327, 328, 329, 331, 332, 333, 334, 335, 336, 337, 338, 339, 342, 343, 348, 352, 363, 366, 367, 368, 370, 371, 372, 373, 374, 375, 376, 378, 379, 380, 381, 382, 383, 384, 386, 387, 389, 391, \n",
    "    404, 405, 411, 412, 413, 415, 416, 418, 419, 420, 421, 422, 435, 436, 445, 446, 447, 451, 452, 454, 475, 480, 482, 483, 484, 488, 493, \n",
    "    508, 509, 511, 512, 513, 515, 516, 517, 518, 519, 520, 521, 522, 525, 526, 528, 529, 530, 531, 532, 534, 539, 541, 543, 544, 546, 547, 548, 551, 556, 557, 558, 560, 563, 565, 567, 569, 571, 572, 573, 579, 580, 584, 585, 591, 592, 595, 597, \n",
    "    603, 604, 608, 610, 615, 616, 617, 618, 624, 625, 626, 629, 631, 636, 639, 643, 645, 647, 654, 655, 657, 660, 661, 664, 667, 668, 670, 673, 679, 680, 681, 682, 683, 684, 685, 688, 689, 690, 692, 693, 694, 695, 698, 699, \n",
    "    700, 701, 703, 704, 705, 706, 712, 714, 716, 717, 726, 732, 733, 739, 740, 741, 745, 747, 750, 754, 755, 756, 767, 772, 773, 774, 782, 783, 785, 787, 788, 789, 790, \n",
    "    881, 882, 893, 895, 896, 897, 898, \n",
    "    902, 903, 904, 905, 906, 908, 909, 911, 913, 923, 924, 925, 926, 927, 929, 939, 940, 951, 952, 953, 955, 956, 957, 958, 960, 961, 963, 964, 965, 966, 967, 975, 976, 977, 978, 979, 980, 981, 982, 983, 984, 985, 986, 987, 988, 989, 990, \n",
    "    1036, 1037, 1038, 1042, 1044, 1049, 1051, 1052, 1053, 1054, 1055, 1056, 1057, 1086, 1087, 1088, 1089, 1094, 1095, 1099, \n",
    "    1100, 1101, 1103, 1104, 1106, 1109, 1111, 1112, 1113, \n",
    "    1227, 1228, 1231, 1245, 1247, 1251, 1255, 1256, 1257, 1261, 1265, 1266, 1268, 1269, 1271, 1273, 1278, 1283, 1285, 1296, 1297, 1298, \n",
    "    1300, 1301, 1302, 1304, 1306, 1307, 1320, 1321, ]\n",
    "\n",
    "list_c1 = [317, ]"
   ]
  },
  {
   "cell_type": "markdown",
   "id": "1382c71b-834e-482b-8670-449708438400",
   "metadata": {},
   "source": [
    "### 2.3 驗證\n",
    "\n",
    "以上全部加起來應該要有 1014 個條目。"
   ]
  },
  {
   "cell_type": "code",
   "execution_count": 9,
   "id": "d894a39c-6047-42cc-8870-34a85e3dc48d",
   "metadata": {},
   "outputs": [
    {
     "data": {
      "text/plain": [
       "1014"
      ]
     },
     "execution_count": 9,
     "metadata": {},
     "output_type": "execute_result"
    }
   ],
   "source": [
    "y_r = np.array([list_r]).flatten()\n",
    "y_a = np.array([list_a]).flatten()\n",
    "y_b1 = np.array([list_b1]).flatten()\n",
    "y_b2 = np.array([list_b2]).flatten()\n",
    "y_c = np.array([list_c1]).flatten()\n",
    "\n",
    "classified_idx = np.sort(np.hstack((y_r, y_a, y_b1, y_b2, y_c)))\n",
    "len(classified_idx)"
   ]
  },
  {
   "cell_type": "markdown",
   "id": "e8d41f07-0ea4-4924-af2c-69aa5c68ef4c",
   "metadata": {},
   "source": [
    "所有在 `df_has_doi` 內的條目應該都要被分類到。"
   ]
  },
  {
   "cell_type": "code",
   "execution_count": 10,
   "id": "fb32e8cf-1545-4a4e-a855-382cbd1b030e",
   "metadata": {},
   "outputs": [
    {
     "data": {
      "text/html": [
       "<div>\n",
       "<style scoped>\n",
       "    .dataframe tbody tr th:only-of-type {\n",
       "        vertical-align: middle;\n",
       "    }\n",
       "\n",
       "    .dataframe tbody tr th {\n",
       "        vertical-align: top;\n",
       "    }\n",
       "\n",
       "    .dataframe thead th {\n",
       "        text-align: right;\n",
       "    }\n",
       "</style>\n",
       "<table border=\"1\" class=\"dataframe\">\n",
       "  <thead>\n",
       "    <tr style=\"text-align: right;\">\n",
       "      <th></th>\n",
       "      <th>PY</th>\n",
       "      <th>JI</th>\n",
       "      <th>TI</th>\n",
       "      <th>AU</th>\n",
       "      <th>AB</th>\n",
       "      <th>C1</th>\n",
       "      <th>AU_CO</th>\n",
       "      <th>AU1_CO</th>\n",
       "      <th>AUc_CO</th>\n",
       "      <th>N_AU</th>\n",
       "      <th>...</th>\n",
       "      <th>DI</th>\n",
       "      <th>DT</th>\n",
       "      <th>ID</th>\n",
       "      <th>PU</th>\n",
       "      <th>SO</th>\n",
       "      <th>TC</th>\n",
       "      <th>VL</th>\n",
       "      <th>DB</th>\n",
       "      <th>AU_UN</th>\n",
       "      <th>AUc_UN</th>\n",
       "    </tr>\n",
       "  </thead>\n",
       "  <tbody>\n",
       "  </tbody>\n",
       "</table>\n",
       "<p>0 rows × 26 columns</p>\n",
       "</div>"
      ],
      "text/plain": [
       "Empty DataFrame\n",
       "Columns: [PY, JI, TI, AU, AB, C1, AU_CO, AU1_CO, AUc_CO, N_AU, AU_TW, FU_TW, RP, FU, FX, DE, DI, DT, ID, PU, SO, TC, VL, DB, AU_UN, AUc_UN]\n",
       "Index: []\n",
       "\n",
       "[0 rows x 26 columns]"
      ]
     },
     "execution_count": 10,
     "metadata": {},
     "output_type": "execute_result"
    }
   ],
   "source": [
    "classified = df_has_doi.index.isin(classified_idx.astype(np.int64))\n",
    "not_classified = df_has_doi.loc[~classified]\n",
    "not_classified"
   ]
  },
  {
   "cell_type": "markdown",
   "id": "fed1b0e3-a69c-4117-a83a-c3a74b0e48cf",
   "metadata": {},
   "source": [
    "## 3. 檢視沒有 DOI 的資料\n",
    "\n",
    "條目總數：317 筆"
   ]
  },
  {
   "cell_type": "code",
   "execution_count": 11,
   "id": "409d5159-ee2d-4b93-b5f3-a33a67e2b965",
   "metadata": {},
   "outputs": [
    {
     "data": {
      "text/plain": [
       "317"
      ]
     },
     "execution_count": 11,
     "metadata": {},
     "output_type": "execute_result"
    }
   ],
   "source": [
    "nodoi_entries = df[df['DI'].isna()]\n",
    "len(nodoi_entries)"
   ]
  },
  {
   "cell_type": "markdown",
   "id": "19e7f197-cc07-49a0-b21b-216cf6849577",
   "metadata": {},
   "source": [
    "### 3.1 分類\n",
    "\n",
    "- `list2_r`: 重複的條目\n",
    "- `list_a`: A 類   (非目標主題)\n",
    "- `list_b1`: B1 類 (目標主題, 使用公開或可經付費取得之資料, 作者群中至少一人任職於台灣機構)\n",
    "- `list_b2`: B2 類 (目標主題, 使用非公開、需正式申請或透過科研合作才可取得之資料, 作者群中至少一人任職於台灣機構)\n",
    "- `list_cannot_check`: 無法分類 (無法只憑標題判定是否為目標主題，也找不到文章內文)"
   ]
  },
  {
   "cell_type": "code",
   "execution_count": 12,
   "id": "44e36c2b-9716-4106-ad81-2211d5916ad6",
   "metadata": {},
   "outputs": [],
   "source": [
    "list2_r = [56, 306]\n",
    "# 306 與 304 (有 DOI) 重複\n",
    "\n",
    "list2_a = [3, 18, 19, 110, 188, 196, 261, 279, 280, 281, 282, 283, 284, 285, 340, 341, 406, 407, 409, 410, 455,\n",
    "           718, 720, 744, 883, 928, 970, 971, 972, 973, \n",
    "           1033, 1118, 1209, 1242, 1259, 1314, 1316, 1317, 1319, 1322, 1323, 1325, 1327, 1328, ]\n",
    "\n",
    "list2_b1 = [308, 408, 949, ]\n",
    "\n",
    "list2_b2 = [0, 61, 232, 236, 238, 260, 307, 894, 947, 948, 974, \n",
    "            1096, 1248, 1254, 1279, 1280, ]\n",
    "\n",
    "list2_cannot_check = [54, 55, 233, 453, 719, 793, 794, 795, 796, 797, 798, 799,\n",
    "                      800, 801, 802, 803, 804, 805, 806, 807, 808, 809, 810, 811, 812, 813, 814, 815, 816, 817, 818, 819, 820, 821, 822, 823, 824, 825, 826, 827, 828, 829, 830, 831, 832, 833, 834, 835, 836, 837, 838, 839, \n",
    "                      840, 841, 842, 843, 844, 845, 846, 847, 848, 849, 850, 851, 852, 853, 854, 855, 856, 857, 858, 859, 860, 861, 862 ,863, 864, 865, 866, 867, 868, 869, 870, 871, 872, 873, 874, 875, 876, 877, 878, 879, 880, \n",
    "                      991, 992, 993, 994, 995, 996, 997, 998, 999, 1000, 1001, 1002, 1003, 1004, 1005, 1006, 1007, 1008, 1009,\n",
    "                      1010, 1011, 1012, 1013, 1014, 1015, 1016, 1017, 1018, 1019, 1020, 1021, 1022, 1023, 1024, 1025, 1026, 1027, 1028, 1029, 1030, 1031, 1032,\n",
    "                      1034, 1035, 1059, 1060, 1061, 1062, 1063, 1064, 1065, 1066, 1067, 1068, 1069, 1070, 1071, 1072, 1073, 1074, 1075, 1076, 1077, 1078, 1079, 1080, 1081, 1082, 1083, 1084, \n",
    "                      1119, 1120, 1121, 1122, 1123, 1124, 1125, 1126, 1127, 1128, 1129, 1130, 1131, 1132, 1133, 1134, 1135, 1136, 1137, 1138, 1139, 1140, 1141, 1142, 1143, 1144, 1145, 1146, 1147, 1148, 1149, 1150, 1151, 1152, 1153, 1154, 1155, 1156, 1157, 1158, \n",
    "                      1159, 1160, 1161, 1162, 1163, 1164, 1165, 1166, 1167, 1168, 1169, 1170, 1171, 1172, 1173, 1174, 1175, 1176, 1177, 1178, 1179, 1180, 1181, 1182, 1183, 1184, 1185, 1186, 1187, 1188, 1189, 1190, 1191, 1192, 1193, 1194, 1195, 1196, 1197, 1198, 1199,\n",
    "                      1200, 1201, 1202, 1203, 1204, 1205, 1206, \n",
    "                      1230, ]\n",
    "# 以下期刊的文章都無法透過 Google 找內文\n",
    "#     J. Geol. Soc. China\n",
    "#     Journal - Geological Society of China\n",
    "#     Memoir - Geological Society of China [除了 1059，這篇文章有重新發表在 Tectonophysics 上，不過為了避免重複計算，這邊仍然算在 cannot_check 內]\n",
    "#     Proceedings - Geological Society of China"
   ]
  },
  {
   "cell_type": "markdown",
   "id": "a8bdaae6-43b4-4549-a05a-fc2923c6a1dd",
   "metadata": {},
   "source": [
    "### 3.2 驗證\n",
    "\n",
    "以上全部加起來應該要有 317 個條目。"
   ]
  },
  {
   "cell_type": "code",
   "execution_count": 13,
   "id": "6a8e3399-1d5e-4469-a005-2f16e0cb8bda",
   "metadata": {},
   "outputs": [
    {
     "data": {
      "text/plain": [
       "317"
      ]
     },
     "execution_count": 13,
     "metadata": {},
     "output_type": "execute_result"
    }
   ],
   "source": [
    "n_r = np.array([list2_r]).flatten()\n",
    "n_a = np.array([list2_a]).flatten()\n",
    "n_b1 = np.array([list2_b1]).flatten()\n",
    "n_b2 = np.array([list2_b2]).flatten()\n",
    "n_na = np.array([list2_cannot_check]).flatten()\n",
    "\n",
    "classified2_idx = np.sort(np.hstack((n_r, n_a, n_b1, n_b2, n_na)))\n",
    "len(classified2_idx)"
   ]
  },
  {
   "cell_type": "markdown",
   "id": "ae350bd3-64b1-4058-9b1d-85356380ec9e",
   "metadata": {},
   "source": [
    "所有在 `nodoi_entries` 內的條目應該都要被分類到。"
   ]
  },
  {
   "cell_type": "code",
   "execution_count": 14,
   "id": "115a2031-b1e3-4130-9086-963b76c2b592",
   "metadata": {},
   "outputs": [
    {
     "data": {
      "text/html": [
       "<div>\n",
       "<style scoped>\n",
       "    .dataframe tbody tr th:only-of-type {\n",
       "        vertical-align: middle;\n",
       "    }\n",
       "\n",
       "    .dataframe tbody tr th {\n",
       "        vertical-align: top;\n",
       "    }\n",
       "\n",
       "    .dataframe thead th {\n",
       "        text-align: right;\n",
       "    }\n",
       "</style>\n",
       "<table border=\"1\" class=\"dataframe\">\n",
       "  <thead>\n",
       "    <tr style=\"text-align: right;\">\n",
       "      <th></th>\n",
       "      <th>PY</th>\n",
       "      <th>JI</th>\n",
       "      <th>TI</th>\n",
       "      <th>AU</th>\n",
       "      <th>AB</th>\n",
       "      <th>C1</th>\n",
       "      <th>AU_CO</th>\n",
       "      <th>AU1_CO</th>\n",
       "      <th>AUc_CO</th>\n",
       "      <th>N_AU</th>\n",
       "      <th>...</th>\n",
       "      <th>DI</th>\n",
       "      <th>DT</th>\n",
       "      <th>ID</th>\n",
       "      <th>PU</th>\n",
       "      <th>SO</th>\n",
       "      <th>TC</th>\n",
       "      <th>VL</th>\n",
       "      <th>DB</th>\n",
       "      <th>AU_UN</th>\n",
       "      <th>AUc_UN</th>\n",
       "    </tr>\n",
       "  </thead>\n",
       "  <tbody>\n",
       "  </tbody>\n",
       "</table>\n",
       "<p>0 rows × 26 columns</p>\n",
       "</div>"
      ],
      "text/plain": [
       "Empty DataFrame\n",
       "Columns: [PY, JI, TI, AU, AB, C1, AU_CO, AU1_CO, AUc_CO, N_AU, AU_TW, FU_TW, RP, FU, FX, DE, DI, DT, ID, PU, SO, TC, VL, DB, AU_UN, AUc_UN]\n",
       "Index: []\n",
       "\n",
       "[0 rows x 26 columns]"
      ]
     },
     "execution_count": 14,
     "metadata": {},
     "output_type": "execute_result"
    }
   ],
   "source": [
    "nodoi_entries_classified = nodoi_entries.index.isin(classified2_idx.astype(np.int64))\n",
    "nodoi_not_classified = nodoi_entries.loc[~nodoi_entries_classified]\n",
    "nodoi_not_classified"
   ]
  },
  {
   "cell_type": "markdown",
   "id": "fb479dab-6cbe-4ab4-b22d-264a0df71bad",
   "metadata": {},
   "source": [
    "## 4. 合併以上結果"
   ]
  },
  {
   "cell_type": "code",
   "execution_count": 15,
   "id": "420bd856-6035-4372-8c4a-af811fbe2b40",
   "metadata": {},
   "outputs": [],
   "source": [
    "r = np.sort(np.hstack((y_r, n_r)))     # 重複\n",
    "a = np.sort(np.hstack((y_a, n_a)))     # A\n",
    "b1 = np.sort(np.hstack((y_b1, n_b1)))  # B1\n",
    "b2 = np.sort(np.hstack((y_b2, n_b2)))  # B2\n",
    "c = y_c     # C1\n",
    "na = n_na   # 無法分類"
   ]
  },
  {
   "cell_type": "code",
   "execution_count": 16,
   "id": "35d4430e-6289-47c4-9927-9d50c631b48c",
   "metadata": {},
   "outputs": [
    {
     "name": "stdout",
     "output_type": "stream",
     "text": [
      " 重複: \t 54 \n",
      " A類: \t 479 \n",
      " B1類: \t 103 \n",
      " B2類: \t 442 \n",
      " C1類: \t 1 \n",
      " 無法分:\t 252\n"
     ]
    }
   ],
   "source": [
    "print(' 重複: \\t {} \\n A類: \\t {} \\n B1類: \\t {} \\n B2類: \\t {} \\n C1類: \\t {} \\n 無法分:\\t {}'.format(len(r), len(a), len(b1), len(b2), len(c), len(na)))"
   ]
  },
  {
   "cell_type": "markdown",
   "id": "22f9e04a-d2d5-46e2-8380-f9ab35701006",
   "metadata": {},
   "source": [
    "## 5. 填上資金來源\n",
    "\n",
    "所有的 B/C 類 (546 筆資料) 都必須要調查研究資金來源。\n",
    "\n",
    "- `taiwan_funding`: 文章中具體寫出研究收到台灣政府或民間組織的財政支持。**部分支持**與**國際合作計畫**也算。\n",
    "- `foreign_funding`: 文章中具體寫出研究收到非台灣政府或民間組織的財政支持，並且沒有提及台灣政府或民間組織的資金貢獻。\n",
    "- `nofunding`: 文章中並未寫出研究是否收到財政支持。\n",
    "\n",
    "**財政支持只能是以科學計畫獎助或是研究獎(學)金的形式撥款**。派遣野外採集的人力、樣本或資料的傳遞、研究船航次、學術會議主辦國的貢獻等等都不算是對研究的財政支持。"
   ]
  },
  {
   "cell_type": "code",
   "execution_count": 17,
   "id": "40aae332-fb5d-4542-8c24-1e4ba65c2c94",
   "metadata": {},
   "outputs": [],
   "source": [
    "taiwan_funding = [0, 22, 23, 24, 25, 26, 27, 28, 30, 31, 32, 34, 35, 58, 59, 60, 62, 64, 66, 67, 69, 71, 72, 73, 76, 81, 82, 83, 84, 87, \n",
    "    122, 123, 124, 125, 127, 129, 130, 132, 134, 136, 138, 139, 140, 145, 147, 148, 173, 174, 176, 179, 183, 184, 191, 195, \n",
    "    204, 205, 206, 208, 209, 212, 214, 216, 224, 225, 229, 231, 232, 234, 235, 236, 237, 238, 239, 240, 243, 245, 247, 248, 250, 251, 252, 257, 262, 266, 268, 269, 271, 272, 293, 290, 292, 296, 298, 299, \n",
    "    304, 307, 308, 311, 313, 314, 316, 319, 323, 329, 331, 332, 333, 334, 335, 336, 337, 338, 339, 348, 352, 356, 369, 370, 371, 372, 373, 374, 375, 376, 377, 378, 379, 381, 382, 383, 384, 385, 386, 387, 388, \n",
    "    405, 411, 415, 418, 419, 420, 421, 435, 445, 446, 450, 451, 452, 480, 481, 482, 483, 484, 488, 489, 492, 493, \n",
    "    508, 509, 512, 516, 517, 520, 521, 522, 524, 525, 526, 527, 528, 529, 530, 531, 532, 533, 534, 535, 536, 539, 541, 543, 545, 546, 547, 548, 549, 550, 551, 552, 556, 560, 562, 563, 565, 567, 569, 571, 573, 575, 577, 579, 580, 584, 585, 591, 594, 595, 596, 597, \n",
    "    604, 605, 609, 610, 611, 613, 615, 616, 617, 618, 619, 623, 625, 626, 628, 629, 631, 635, 637, 638, 639, 642, 643, 645, 647, 649, 650, 651, 652, 654, 655, 657, 659, 661, 662, 663, 664, 665, 668, 670, 672, 673, 677, 679, 680, 681, 682, 683, 685, 686, 687, 688, 689, 690, 692, 694, 697, 698, \n",
    "    700, 701, 702, 703, 704, 705, 706, 707, 709, 710, 712, 713, 714, 716, 717, 726, 733, 739, 740, 741, 745, 747, 750, 754, 767, 768, 771, 773, 775, 777, 779, 785, 787, 881, 882, 893, 894, 895, 896, \n",
    "    900, 902, 903, 904, 905, 908, 909, 911, 923, 924, 925, 926, 927, 929, 940, 947, 948, 949, 951, 952, 953, 955, 956, 957, 958, 960, 961, 962, 963, 965, 967, 974, 975, 976, 978, 979, 980, 981, 984, 985, 986, 987, 988, 989, 990, \n",
    "    1036, 1037, 1042, 1044, 1051, 1052, 1053, 1054, 1055, 1056, 1057, 1058, 1088, 1094, 1095, 1099, 1100, 1101, 1102, 1103, 1104, 1106, 1107, \n",
    "    1227, 1228, 1255, 1256, 1257, 1261, 1266, 1268, 1269, 1280, 1283, 1290, 1295, 1296, 1297, 1299, 1300, 1302, 1303, 1304, 1306, 1307, 1320, 1321, ]\n",
    "\n",
    "foreign_funding = [5, 36, 61, 135, 143, 144, 181, 186, \n",
    "    213, 226, 254, 256, 270, 294, 297, 300, 318, 321, 322, 324, 326, 327, 330, 358, 363, 389, 391, \n",
    "    513, 557, 558, 572, 603, 608, 636, 660, 675, 684, 695, 699, 770, 774, 755, 782, 783, 789, 790, \n",
    "    912, 913, 939, 964, 966, 977, 983, 1049, 1087, 1089, 1111, 1112, 1113, 1273, 1298, 1301, ]\n",
    "\n",
    "nofunding = [29, 33, 40, 41, 50, 53, 75, 79, 85, 86, 95, \n",
    "    121, 133, 175, 189, 194, 227, 259, 260, 273, 289, 295, \n",
    "    301, 309, 310, 312, 317, 325, 328, 342, 343, 351, 366, 367, 368, 380, \n",
    "    404, 408, 412, 413, 416, 422, 430, 436, 447, 449, 454, 475, \n",
    "    511, 515, 518, 519, 544, 592, 624, 667, 693, 732, 756, 772, 776, 788, 891, 897, 898, \n",
    "    901, 906, 982, \n",
    "    1038, 1086, 1096, 1105, 1109, 1231, 1243, 1245, 1247, 1248, 1250, 1251, 1254, 1265, 1271, 1278, 1279, 1285, ]"
   ]
  },
  {
   "cell_type": "markdown",
   "id": "6da7a4c0-521e-4ab1-8506-7219a6eee796",
   "metadata": {},
   "source": [
    "### 5.1 驗證\n",
    "\n",
    "以上全部加起來應該要有 546 個條目。"
   ]
  },
  {
   "cell_type": "code",
   "execution_count": 18,
   "id": "1509de04-dd27-42b1-bbe2-851b64818b44",
   "metadata": {},
   "outputs": [
    {
     "data": {
      "text/plain": [
       "546"
      ]
     },
     "execution_count": 18,
     "metadata": {},
     "output_type": "execute_result"
    }
   ],
   "source": [
    "f_t = np.array([taiwan_funding]).flatten()\n",
    "f_f = np.array([foreign_funding]).flatten()\n",
    "f_n = np.array([nofunding]).flatten()\n",
    "f_collection = np.sort(np.hstack((f_t, f_f, f_n)))\n",
    "len(f_collection)"
   ]
  },
  {
   "cell_type": "markdown",
   "id": "e524fd8e-2fdc-407e-9aa0-bc91c7c9ed74",
   "metadata": {},
   "source": [
    "所有在 B 或 C 類內的條目應該都要被分類到。"
   ]
  },
  {
   "cell_type": "code",
   "execution_count": 19,
   "id": "aa4f712a-cfd6-45cd-abed-7de22c3067d1",
   "metadata": {},
   "outputs": [
    {
     "data": {
      "text/plain": [
       "array([], dtype=int64)"
      ]
     },
     "execution_count": 19,
     "metadata": {},
     "output_type": "execute_result"
    }
   ],
   "source": [
    "bc_collection = np.sort(np.hstack((b1, b2, c)))\n",
    "mask = np.isin(bc_collection, f_collection)\n",
    "bc_collection[~mask]"
   ]
  },
  {
   "cell_type": "markdown",
   "id": "f33f7eb7-3420-40d7-a204-5cced13f5f22",
   "metadata": {},
   "source": [
    "## 6. 輸出結果"
   ]
  },
  {
   "cell_type": "code",
   "execution_count": 20,
   "id": "171dd7df-228c-4a2c-bc95-02c78e552780",
   "metadata": {},
   "outputs": [],
   "source": [
    "# 把資料複製到 df_out 後再開始更動\n",
    "df_out = df.copy()"
   ]
  },
  {
   "cell_type": "code",
   "execution_count": 21,
   "id": "3012cdfc-1446-4d8a-a4b1-b519323b14cd",
   "metadata": {},
   "outputs": [],
   "source": [
    "df_out.loc[a, 'Group'] = 'A'\n",
    "df_out.loc[b1, 'Group'] = 'B1'\n",
    "df_out.loc[b2, 'Group'] = 'B2'\n",
    "df_out.loc[c, 'Group'] = 'C'\n",
    "df_out.loc[r, 'Group'] = 'R'   # 重複的條目\n",
    "df_out.loc[na, 'Group'] = 'X'  # 無法分類的條目\n",
    "df_out.loc[f_t, 'FU_TW'] = 1   # 請參考「規則」Google Docs 的分類數字\n",
    "df_out.loc[f_f, 'FU_TW'] = 2\n",
    "df_out.loc[f_n, 'FU_TW'] = 0"
   ]
  },
  {
   "cell_type": "code",
   "execution_count": 22,
   "id": "99e6654b-66a5-4bb7-b820-fb9ec19f1f79",
   "metadata": {},
   "outputs": [],
   "source": [
    "# 更新 AUc_CO 和 AU_TW 的資訊\n",
    "# 沒有註明通訊作者的文章，以第一作者為通訊作者\n",
    "df_out.loc[237, 'AUc_CO'] = 'USA'\n",
    "df_out.loc[237, 'AU_TW'] = 2\n",
    "df_out.loc[238, 'AUc_CO'] = 'USA'\n",
    "df_out.loc[238, 'AU_TW'] = 2\n",
    "df_out.loc[257, 'AUc_CO'] = 'FRANCE'\n",
    "df_out.loc[273, 'AUc_CO'] = 'TAIWAN'\n",
    "df_out.loc[289, 'AUc_CO'] = 'TAIWAN'\n",
    "df_out.loc[301, 'AUc_CO'] = 'TAIWAN'\n",
    "df_out.loc[367, 'AUc_CO'] = 'TAIWAN'\n",
    "df_out.loc[756, 'AUc_CO'] = 'TAIWAN'\n",
    "df_out.loc[929, 'AUc_CO'] = 'USA'\n",
    "df_out.loc[929, 'AU_TW'] = 3\n",
    "# 修正 DOI 和奇怪的標題\n",
    "df_out.loc[5,    'TI'] ='Terrestrial biomarker isotope records of late Quaternary climate and source-to-sink sediment transport processes in southwestern Taiwan'\n",
    "df_out.loc[57  , 'DI'] = '10.2113/gssgfbull.180.2.155'\n",
    "df_out.loc[61  , 'DI'] = '10.1007/s004450050241'\n",
    "df_out.loc[187 , 'DI']  = '10.2113/gsecongeo.97.3.593'\n",
    "df_out.loc[236 , 'DI'] = '10.1016/0016-7037(88)90037-3'\n",
    "df_out.loc[238 , 'DI'] = '10.1016/0016-7037(90)90165-H'\n",
    "df_out.loc[307 , 'DI'] = '10.1130/0091-7613(1998)026%3C0279:SRASSO%3E2.3.CO;2'\n",
    "df_out.loc[308 , 'DI'] = '10.1130/0091-7613(2000)28%3C155:SBAAMF%3E2.0.CO;2'\n",
    "df_out.loc[342 , 'DI']  = '10.22059/GEOPE.2020.301603.648548'\n",
    "df_out.loc[364 , 'DI']  = '10.1680/gein.2003.10.1.2'\n",
    "df_out.loc[455 , 'DI'] = '10.1016/S1001-6279(11)60103-0'\n",
    "df_out.loc[502 , 'DI'] = '10.1023/A:1008282623697'\n",
    "df_out.loc[509 , 'DI']  = 'www.sciencedirect.com/science/article/abs/pii/S0743954796000761'\n",
    "df_out.loc[756 , 'DI']  = '10.11366/sokuchi1954.30.213'\n",
    "df_out.loc[889 , 'DI']  = '10.3826/jhr.2008.3173'\n",
    "df_out.loc[894 , 'DI'] = '10.1046/j.0263-4929.2001.00331.x'\n",
    "df_out.loc[923 , 'DI'] = '10.1023/A:1008067928365'\n",
    "df_out.loc[928 , 'DI'] = '10.1111/jpg.12748'\n",
    "df_out.loc[948 , 'DI'] = '10.1016/0743-9547(94)00041-C'\n",
    "df_out.loc[949 , 'DI'] = '10.1016/0743-9547(94)00040-L'\n",
    "df_out.loc[974 , 'DI'] = '10.1016/0377-0273(95)00028-3'\n",
    "df_out.loc[1248, 'DI'] = '10.1007/BF02907199'\n",
    "df_out.loc[1254, 'DI'] = 'hdl.handle.net/10097/45241'\n",
    "df_out.loc[1259, 'DI'] = '10.1046/j.1365-3091.1998.00175.x'\n",
    "df_out.loc[1279, 'DI'] = '10.1179/sre.2002.36.286.568'\n",
    "df_out.loc[1280, 'DI'] = '10.1179/sre.2002.36.284.423'\n",
    "df_out.loc[1281, 'DI'] = '10.1179/003962603791482613'"
   ]
  },
  {
   "cell_type": "code",
   "execution_count": 23,
   "id": "12a64b46-45f2-4739-91bc-72d179bc1d12",
   "metadata": {},
   "outputs": [],
   "source": [
    "df_out.to_csv('6.1331_TW_others_Zheng_done.csv', index=False)"
   ]
  },
  {
   "cell_type": "code",
   "execution_count": null,
   "id": "d531825e-4f71-4341-a6f0-49fbf810adba",
   "metadata": {},
   "outputs": [],
   "source": []
  },
  {
   "cell_type": "code",
   "execution_count": 24,
   "id": "1fad311d-ffa1-4afc-a847-77fab90fdd4d",
   "metadata": {},
   "outputs": [
    {
     "data": {
      "text/plain": [
       "'https://doi.org/10.1093/petrology/16.1.80'"
      ]
     },
     "execution_count": 24,
     "metadata": {},
     "output_type": "execute_result"
    }
   ],
   "source": [
    "# Extract single doi\n",
    "'https://doi.org/' + df_out.loc[929, 'DI']"
   ]
  }
 ],
 "metadata": {
  "kernelspec": {
   "display_name": "Python [conda env:.conda-eztrack]",
   "language": "python",
   "name": "conda-env-.conda-eztrack-py"
  },
  "language_info": {
   "codemirror_mode": {
    "name": "ipython",
    "version": 3
   },
   "file_extension": ".py",
   "mimetype": "text/x-python",
   "name": "python",
   "nbconvert_exporter": "python",
   "pygments_lexer": "ipython3",
   "version": "3.9.4"
  }
 },
 "nbformat": 4,
 "nbformat_minor": 5
}
